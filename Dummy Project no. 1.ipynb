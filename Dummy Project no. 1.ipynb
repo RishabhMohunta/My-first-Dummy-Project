{
 "cells": [
  {
   "cell_type": "markdown",
   "id": "702b9551-1028-49f6-bacb-f675c1310f48",
   "metadata": {},
   "source": [
    "# My Jupyter Notebook on IBM Watson Studio\n"
   ]
  },
  {
   "cell_type": "markdown",
   "id": "2abde4aa-c6fc-434b-996f-cca690562937",
   "metadata": {},
   "source": [
    "**Rishabh Mohunta**"
   ]
  },
  {
   "cell_type": "markdown",
   "id": "c27c817e-cdb5-48b9-9181-31abcd87c88c",
   "metadata": {},
   "source": [
    "Data Scientist "
   ]
  },
  {
   "cell_type": "markdown",
   "id": "b2cd4feb-ada6-4a52-9108-d256b3521c54",
   "metadata": {},
   "source": [
    "*I am interested in Data Science because it empowers me with the skill-set  and tools to derive meaningful insights and value from structured, unstructured and semi-structured data. It is a job that is professionally, financially and intellectually rewarding.*"
   ]
  },
  {
   "cell_type": "markdown",
   "id": "574eb86b-ddc5-406b-a70b-0b118910caf8",
   "metadata": {},
   "source": [
    "### My code in the next line will perform a simple division of two numbers."
   ]
  },
  {
   "cell_type": "code",
   "execution_count": 2,
   "id": "8532ea8c-8a8f-481b-a832-c6e34e5ce405",
   "metadata": {},
   "outputs": [
    {
     "data": {
      "text/plain": [
       "10.0"
      ]
     },
     "execution_count": 2,
     "metadata": {},
     "output_type": "execute_result"
    }
   ],
   "source": [
    "50/5"
   ]
  },
  {
   "cell_type": "markdown",
   "id": "216c12eb-9407-406f-99e5-fa26dadf0d2f",
   "metadata": {},
   "source": [
    "***\n",
    "Some popular fruits\n",
    "1. Mango\n",
    "2. Apple\n",
    "3. Banana\n",
    "4. Grapes\n",
    "5. Cherry\n",
    "6. Orange\n",
    "***\n",
    "\n",
    "~~Hey, this sentence is striked for no apparent reason~~\n",
    "\n",
    "The next thing here is an example of a table in markdown\n",
    "\n",
    "\n",
    "| One   | Two |\n",
    "| ----------- | ----------- |\n",
    "| Sci-Fi | Comedy      |\n",
    "| Star Trek   | Aflatoon        |"
   ]
  },
  {
   "cell_type": "code",
   "execution_count": null,
   "id": "21e1a5cc-4d33-4ebb-b32e-796f276a3060",
   "metadata": {},
   "outputs": [],
   "source": []
  }
 ],
 "metadata": {
  "kernelspec": {
   "display_name": "Python",
   "language": "python",
   "name": "conda-env-python-py"
  },
  "language_info": {
   "codemirror_mode": {
    "name": "ipython",
    "version": 3
   },
   "file_extension": ".py",
   "mimetype": "text/x-python",
   "name": "python",
   "nbconvert_exporter": "python",
   "pygments_lexer": "ipython3",
   "version": "3.7.12"
  }
 },
 "nbformat": 4,
 "nbformat_minor": 5
}
